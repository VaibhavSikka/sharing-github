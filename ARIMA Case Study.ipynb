{
 "cells": [
  {
   "cell_type": "markdown",
   "metadata": {},
   "source": [
    "\n",
    "<h3 id=\"Business-Case-of-Deere-&amp;-Co.\">Business Case of Deere &amp; Co.<a class=\"anchor-link\" href=\"#Business-Case-of-Deere-&amp;-Co.\">¶</a></h3><p>Deere and copmany forecast higher sales of machinery in the next financial year as the worldâ€™s largest tractor manufacturer downplayed the impact of the U.S.-China trade war on soybean prices.</p>\n",
    "<p>Deere also forecast its equipment sales will rise by about 30 percent in the current fiscal year. The company expects farmersâ€™ net returns per acre in 2019 will rise as much as 20 percent to the highest level in about five years, Chief Finance Officer Rajesh Kalathur said on the call.</p>\n",
    "<p>Now with this challenging demand, we need data science team to help them</p>\n",
    "<p>Deere is a tractor and farm equipment manufacturing company, was established in 1838.</p>\n",
    "<p>The company has shown a consistent growth in its revenue from tractor sales since its inception.</p>\n",
    "<p>However, over the years the company has struggled to keep itâ€™s inventory and production cost down because of variability in sales and tractor demand.</p>\n",
    "<p>The management at PowerHorse is under enormous pressure from the shareholders and board to reduce the production cost.</p>\n",
    "<p>Additionally, they are also interested in understanding the impact of their marketing and farmer connect efforts towards overall sales.</p>\n",
    "<p>In the same effort, they have hired you as a data science and predictive analytics consultant.</p>\n",
    "<p>Can you help them in optimizing and solving their business Problem</p>\n"
   ]
  },
  {
   "cell_type": "code",
   "execution_count": null,
   "metadata": {},
   "outputs": [],
   "source": [
    "\n",
    "import warnings\n",
    "import itertools\n",
    "import pandas as pd\n",
    "import numpy as np\n",
    "import statsmodels.api as sm\n",
    "import statsmodels.tsa.api as smt\n",
    "import statsmodels.formula.api as smf\n",
    "from io import StringIO\n",
    "import requests\n",
    "import matplotlib.pyplot as plt\n",
    "%matplotlib inline\n",
    "\n",
    "plt.style.use('bmh')\n",
    "\n"
   ]
  },
  {
   "cell_type": "code",
   "execution_count": null,
   "metadata": {},
   "outputs": [],
   "source": [
    "\n",
    "# Read the data\n",
    "\n",
    "sales_data = pd.read_csv(\"/Users/gobo/Desktop/IMS Pro School Data/Untitled Folder/Tractor-sales.csv\")\n",
    "sales_data.head(5)\n",
    "\n"
   ]
  },
  {
   "cell_type": "code",
   "execution_count": null,
   "metadata": {},
   "outputs": [],
   "source": [
    "\n",
    "# since the complete date was not mentioned, we assume that it was the first of every month\n",
    "dates = pd.date_range(start='2003-01-01', freq='MS', periods=len(sales_data))\n",
    "\n",
    "import calendar\n",
    "sales_data['Month'] = dates.month\n",
    "sales_data['Month'] = sales_data['Month'].apply(lambda x: calendar.month_abbr[x])\n",
    "sales_data['Year'] = dates.year\n",
    "\n"
   ]
  },
  {
   "cell_type": "code",
   "execution_count": null,
   "metadata": {},
   "outputs": [],
   "source": [
    "\n",
    "sales_data.drop(['Month-Year'], axis=1, inplace=True)\n",
    "sales_data.rename(columns={'Number of Tractor Sold':'Tractor-Sales'}, inplace=True)\n",
    "sales_data = sales_data[['Month', 'Year', 'Tractor-Sales']]\n",
    "\n"
   ]
  },
  {
   "cell_type": "code",
   "execution_count": null,
   "metadata": {},
   "outputs": [],
   "source": [
    "\n",
    "# set the dates as the index of the dataframe, so that it can be treated as a time-series dataframe\n",
    "sales_data.set_index(dates, inplace=True)\n",
    "# check out first 5 samples of the data\n",
    "sales_data.head(5)\n",
    "\n"
   ]
  },
  {
   "cell_type": "code",
   "execution_count": null,
   "metadata": {},
   "outputs": [],
   "source": [
    "\n",
    "# extract out the time-series\n",
    "sales_ts = sales_data['Tractor-Sales']\n",
    "\n"
   ]
  },
  {
   "cell_type": "code",
   "execution_count": null,
   "metadata": {},
   "outputs": [],
   "source": [
    "\n",
    "# Plot the time series\n",
    "plt.figure(figsize=(10, 5))\n",
    "plt.plot(sales_ts)\n",
    "plt.xlabel('Years')\n",
    "plt.ylabel('Tractor Sales')\n",
    "\n"
   ]
  },
  {
   "cell_type": "code",
   "execution_count": null,
   "metadata": {},
   "outputs": [],
   "source": [
    "\n",
    "#Determing rolling statistics\n",
    "rolmean = sales_ts.rolling(window=12).mean()\n",
    "rolstd = sales_ts.rolling(window=12).std()\n",
    "\n",
    "#Plot rolling statistics:\n",
    "orig = plt.plot(sales_ts, label='Original')\n",
    "mean = plt.plot(rolmean, label='Rolling Mean')\n",
    "std = plt.plot(rolstd, label = 'Rolling Std')\n",
    "plt.legend(loc='best')\n",
    "plt.title('Rolling Mean & Standard Deviation')\n",
    "plt.show(block=False)\n",
    "\n"
   ]
  },
  {
   "cell_type": "code",
   "execution_count": null,
   "metadata": {},
   "outputs": [],
   "source": [
    "\n",
    "monthly_sales_data = pd.pivot_table(sales_data, values = \"Tractor-Sales\", columns = \"Year\", index = \"Month\")\n",
    "monthly_sales_data = monthly_sales_data.reindex(index = ['Jan','Feb','Mar', 'Apr', 'May', 'Jun', 'Jul', 'Aug', 'Sep', 'Oct', 'Nov', 'Dec'])\n",
    "monthly_sales_data\n",
    "\n"
   ]
  },
  {
   "cell_type": "code",
   "execution_count": null,
   "metadata": {},
   "outputs": [],
   "source": [
    "\n",
    "# This is to see month on month plot by year. This will help us to understand if we have\n",
    "# similar patterns in the time series\n",
    "monthly_sales_data.plot()\n",
    "\n"
   ]
  },
  {
   "cell_type": "code",
   "execution_count": null,
   "metadata": {},
   "outputs": [],
   "source": [
    "\n",
    "# Making yearly data and ploting it to check year patterns\n",
    "yearly_sales_data = pd.pivot_table(sales_data, values = \"Tractor-Sales\", columns = \"Month\", index = \"Year\")\n",
    "yearly_sales_data = yearly_sales_data[['Jan','Feb','Mar', 'Apr', 'May', 'Jun', 'Jul', 'Aug', 'Sep', 'Oct', 'Nov', 'Dec']]\n",
    "yearly_sales_data\n",
    "yearly_sales_data.boxplot()\n",
    "\n"
   ]
  },
  {
   "cell_type": "markdown",
   "metadata": {},
   "source": [
    "\n",
    "<p>Important Inferences</p>\n",
    "<p>The tractor sales have been increasing without fail every year.</p>\n",
    "<p>July and August are the peak months for tractor sales and the variance and the mean value in July and August are also much higher than any of the other months.</p>\n",
    "<p>We can see a seasonal cycle of 12 months where the mean value of each month starts with a increasing trend in the beginning of the year and drops down towards the end of the year.</p>\n",
    "<p>We can see a seasonal effect with a cycle of 12 months.</p>\n"
   ]
  },
  {
   "cell_type": "code",
   "execution_count": null,
   "metadata": {},
   "outputs": [],
   "source": [
    "\n",
    "decomposition = sm.tsa.seasonal_decompose(sales_ts, model='multiplicative')\n",
    "\n"
   ]
  },
  {
   "cell_type": "code",
   "execution_count": null,
   "metadata": {},
   "outputs": [],
   "source": [
    "\n",
    "fig = decomposition.plot()\n",
    "fig.set_figwidth(12)\n",
    "fig.set_figheight(8)\n",
    "fig.suptitle('Decomposition of multiplicative time series')\n",
    "plt.show()\n",
    "\n"
   ]
  },
  {
   "cell_type": "code",
   "execution_count": null,
   "metadata": {},
   "outputs": [],
   "source": [
    "\n",
    "# Define the d and q parameters to take any value between 0 and 1\n",
    "q = d = range(0, 2)\n",
    "# Define the p parameters to take any value between 0 and 3\n",
    "p = range(0, 4)\n",
    "\n",
    "# Generate all different combinations of p, q and q triplets\n",
    "pdq = list(itertools.product(p, d, q))\n",
    "\n",
    "# Generate all different combinations of seasonal p, q and q triplets\n",
    "seasonal_pdq = [(x[0], x[1], x[2], 12) for x in list(itertools.product(p, d, q))]\n",
    "\n",
    "print('Examples of parameter combinations for Seasonal ARIMA...')\n",
    "print('SARIMAX: {} x {}'.format(pdq[1], seasonal_pdq[1]))\n",
    "print('SARIMAX: {} x {}'.format(pdq[1], seasonal_pdq[2]))\n",
    "print('SARIMAX: {} x {}'.format(pdq[2], seasonal_pdq[3]))\n",
    "print('SARIMAX: {} x {}'.format(pdq[2], seasonal_pdq[4]))\n",
    "\n"
   ]
  },
  {
   "cell_type": "code",
   "execution_count": null,
   "metadata": {},
   "outputs": [],
   "source": [
    "\n",
    "warnings.filterwarnings(\"ignore\") # specify to ignore warning messages\n",
    "\n",
    "AIC = []\n",
    "SARIMAX_model = []\n",
    "for param in pdq:\n",
    "    for param_seasonal in seasonal_pdq:\n",
    "        try:\n",
    "            mod = sm.tsa.statespace.SARIMAX(sales_ts,\n",
    "                                            order=param,\n",
    "                                            seasonal_order=param_seasonal,\n",
    "                                            enforce_stationarity=False,\n",
    "                                            enforce_invertibility=False)\n",
    "\n",
    "            results = mod.fit()\n",
    "\n",
    "            print('SARIMAX{}x{} - AIC:{}'.format(param, param_seasonal, results.aic), end='\\r')\n",
    "            AIC.append(results.aic)\n",
    "            SARIMAX_model.append([param, param_seasonal])\n",
    "        except:\n",
    "            continue\n",
    "\n"
   ]
  },
  {
   "cell_type": "code",
   "execution_count": null,
   "metadata": {},
   "outputs": [],
   "source": [
    "\n",
    "print('The smallest AIC is {} for model SARIMAX{}x{}'.format(min(AIC), SARIMAX_model[AIC.index(min(AIC))][0],SARIMAX_model[AIC.index(min(AIC))][1]))\n",
    "\n"
   ]
  },
  {
   "cell_type": "code",
   "execution_count": null,
   "metadata": {},
   "outputs": [],
   "source": [
    "\n",
    "# Let's fit this model\n",
    "mod = sm.tsa.statespace.SARIMAX(sales_ts,\n",
    "                                order=SARIMAX_model[AIC.index(min(AIC))][0],\n",
    "                                seasonal_order=SARIMAX_model[AIC.index(min(AIC))][1],\n",
    "                                enforce_stationarity=False,\n",
    "                                enforce_invertibility=False)\n",
    "\n",
    "results = mod.fit()\n",
    "\n"
   ]
  },
  {
   "cell_type": "code",
   "execution_count": null,
   "metadata": {},
   "outputs": [],
   "source": [
    "\n",
    "results.plot_diagnostics(figsize=(20, 14))\n",
    "plt.show()\n",
    "\n"
   ]
  },
  {
   "cell_type": "code",
   "execution_count": null,
   "metadata": {},
   "outputs": [],
   "source": [
    "\n",
    "pred1 = results.get_prediction(start='2003-01-01', dynamic=True)\n",
    "pred1_ci = pred1.conf_int()\n",
    "\n"
   ]
  },
  {
   "cell_type": "code",
   "execution_count": null,
   "metadata": {},
   "outputs": [],
   "source": [
    "\n",
    "pred2 = results.get_forecast('2015-01-01')\n",
    "pred2_ci = pred2.conf_int()\n",
    "\n"
   ]
  },
  {
   "cell_type": "code",
   "execution_count": null,
   "metadata": {},
   "outputs": [],
   "source": [
    "\n",
    "#In this case the model is used to predict data that the model was built on. \n",
    "#1-step ahead forecasting implies that each forecasted point is used to predict the \n",
    "#following one.\n",
    "pred0 = results.get_prediction(start='2003-01-01', dynamic=False)\n",
    "pred0_ci = pred0.conf_int()\n",
    "\n",
    "#In sample prediction with dynamic forecasting of the last year  \n",
    "#Again, the model is used to predict data that the model was built on.\n",
    "pred1 = results.get_prediction(start='2003-01-01', dynamic=True)\n",
    "pred1_ci = pred1.conf_int()\n",
    "\n",
    "#\"True\" forecasting of out of sample data. \n",
    "#In this case the model is asked to predict data it has not seen before.\n",
    "pred2 = results.get_forecast('2016-01-01')\n",
    "# Give the end year till you want forecast\n",
    "pred2_ci = pred2.conf_int()\n",
    "\n"
   ]
  },
  {
   "cell_type": "code",
   "execution_count": null,
   "metadata": {},
   "outputs": [],
   "source": [
    "\n",
    "#Plot the predicted values\n",
    "ax = sales_ts.plot(figsize=(20, 16))\n",
    "pred0.predicted_mean.plot(ax=ax, label='1-step-ahead Forecast (get_predictions, dynamic=False)')\n",
    "pred1.predicted_mean.plot(ax=ax, label='Dynamic Forecast (get_predictions, dynamic=True)')\n",
    "pred2.predicted_mean.plot(ax=ax, label='Dynamic Forecast (get_forecast)')\n",
    "ax.fill_between(pred2_ci.index, pred2_ci.iloc[:, 0], pred2_ci.iloc[:, 1], color='k', alpha=.1)\n",
    "plt.ylabel('Monthly Tractor Sales')\n",
    "plt.xlabel('Date')\n",
    "plt.legend()\n",
    "plt.show()\n",
    "\n"
   ]
  }
 ],
 "metadata": {
  "kernelspec": {
   "display_name": "Python 3",
   "language": "python",
   "name": "python3"
  },
  "language_info": {
   "codemirror_mode": {
    "name": "ipython",
    "version": 3
   },
   "file_extension": ".py",
   "mimetype": "text/x-python",
   "name": "python",
   "nbconvert_exporter": "python",
   "pygments_lexer": "ipython3",
   "version": "3.7.4"
  }
 },
 "nbformat": 4,
 "nbformat_minor": 1
}
